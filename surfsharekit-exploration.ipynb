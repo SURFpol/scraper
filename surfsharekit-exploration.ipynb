{
 "cells": [
  {
   "cell_type": "markdown",
   "metadata": {},
   "source": [
    "# SURFsharekit scraped data analysis\n",
    "This notebook explores some statistics of the data scraped from SURFsharekit. It will take the **newly** scraped data as input (in the `stimuleringsregeling/new` directory.\n",
    "\n",
    "We will look at the number of documents per content type (HTML, PDF and docs) and provide a breakdown of the type of data on the HTML pages (this is manual work)."
   ]
  },
  {
   "cell_type": "markdown",
   "metadata": {},
   "source": [
    "## TODOs\n",
    "1. Look at failed scrapes\n",
    "\n",
    "Two dimensions along which to classify:\n",
    "1. Material type (exercise, lecture, source data, syllabus, mix, etc.);\n",
    "1. Content type (Jupyter notebook, Word-document, HTML page, PDF, video, audio, etc.).\n",
    "\n",
    "**Create a breakdown for both of them, if possible.**"
   ]
  },
  {
   "cell_type": "code",
   "execution_count": null,
   "metadata": {},
   "outputs": [],
   "source": [
    "import os\n",
    "import json\n",
    "from glob import glob\n",
    "from itertools import chain, groupby\n",
    "from urllib.parse import urlparse\n",
    "\n",
    "import pandas as pd\n",
    "import matplotlib.pyplot as plt\n",
    "import seaborn as sns\n",
    "%matplotlib inline\n",
    "%config InlineBackend.figure_format = 'retina'\n",
    "\n",
    "# Plot customization\n",
    "\n",
    "import matplotlib as mpl\n",
    "mpl.rcParams['font.size'] = 16"
   ]
  },
  {
   "cell_type": "markdown",
   "metadata": {},
   "source": [
    "**Change the location of the SURFsharekit scrape data to your surfdrive location in the cell below. Be aware that this should be the location of the `new` directory!**"
   ]
  },
  {
   "cell_type": "code",
   "execution_count": null,
   "metadata": {},
   "outputs": [],
   "source": [
    "SHAREKIT_OUTPUT_PATH = '~/surfdrive/POL/scraped/stimuleringsregeling/new'"
   ]
  },
  {
   "cell_type": "code",
   "execution_count": null,
   "metadata": {},
   "outputs": [],
   "source": [
    "# Some helper functions\n",
    "\n",
    "def load_json(path):\n",
    "    with open(path) as stream:\n",
    "        return json.load(stream)\n",
    "    \n",
    "    \n",
    "def countby(iterable, keyfunc):\n",
    "    return dict(((key, len(list(values))) for key, values in groupby(iterable, keyfunc)))\n",
    "\n",
    "\n",
    "def identity(x):\n",
    "    return x"
   ]
  },
  {
   "cell_type": "markdown",
   "metadata": {},
   "source": [
    "Count the number of documents (SURFsharekit pages)"
   ]
  },
  {
   "cell_type": "code",
   "execution_count": null,
   "metadata": {},
   "outputs": [],
   "source": [
    "json_files = glob(os.path.expanduser(os.path.join(SHAREKIT_OUTPUT_PATH, '*.json')))\n",
    "sharekit_documents = [load_json(path) for path in json_files]\n",
    "len(sharekit_documents)"
   ]
  },
  {
   "cell_type": "markdown",
   "metadata": {},
   "source": [
    "Count the number of *attachments* in total across all documents."
   ]
  },
  {
   "cell_type": "code",
   "execution_count": null,
   "metadata": {},
   "outputs": [],
   "source": [
    "attachments = list(chain(*[_['documents'] for _ in sharekit_documents]))\n",
    "len(attachments)"
   ]
  },
  {
   "cell_type": "markdown",
   "metadata": {},
   "source": [
    "## Scrape exceptions\n",
    "Dump a count of the number of times a certain scrape exception occurred. Youtube links aren't scraped at the moment, which is why we find **437** `'youtube'` 'exceptions'."
   ]
  },
  {
   "cell_type": "code",
   "execution_count": null,
   "metadata": {},
   "outputs": [],
   "source": [
    "def parse_exception_text(text):\n",
    "    if 'IsYoutubeLink' in text:\n",
    "        return 'youtube'\n",
    "    return text\n",
    "\n",
    "scrape_exceptions = [_['exception'] for _ in attachments if 'exception' in _]\n",
    "mapped_exceptions = (parse_exception_text(_) for _ in scrape_exceptions)\n",
    "\n",
    "exception_counts = countby(sorted(mapped_exceptions), identity)\n",
    "for k, v in exception_counts.items():\n",
    "    print('{}: {}'.format(k, v))\n",
    "sum(exception_counts.values())"
   ]
  },
  {
   "cell_type": "markdown",
   "metadata": {},
   "source": [
    "## Count by content type\n",
    "Count the number of documents for which we have a content type, which should be equal to the number of attachments minus the number of exceptions."
   ]
  },
  {
   "cell_type": "code",
   "execution_count": null,
   "metadata": {},
   "outputs": [],
   "source": [
    "HUMANIZED_CONTENT_TYPES = {\n",
    "    'application/pdf': 'pdf',\n",
    "    'application/vnd.openxmlformats-officedocument.presentationml.presentation': 'presentation',\n",
    "    'application/vnd.openxmlformats-officedocument.wordprocessingml.document': 'word',\n",
    "    'text/html': 'HTML - other'\n",
    "}\n",
    "\n",
    "def humanize_content_type(content_type):\n",
    "    if 'text/html' in content_type:\n",
    "        content_type = 'text/html'\n",
    "    return HUMANIZED_CONTENT_TYPES[content_type]\n",
    "\n",
    "\n",
    "content_types = [humanize_content_type(_['content-type']) for _ in attachments if 'content-type' in _]\n",
    "len(content_types)"
   ]
  },
  {
   "cell_type": "markdown",
   "metadata": {},
   "source": [
    "Of the 321 attachments, dump the content type counts."
   ]
  },
  {
   "cell_type": "code",
   "execution_count": null,
   "metadata": {},
   "outputs": [],
   "source": [
    "content_type_counts = countby(sorted((_.lower() for _ in content_types)), identity)\n",
    "for k, v in content_type_counts.items():\n",
    "    print('{}: {}'.format(k, v))"
   ]
  },
  {
   "cell_type": "markdown",
   "metadata": {},
   "source": [
    "For a complete overview, add the Youtube links count to the content type counts as well."
   ]
  },
  {
   "cell_type": "code",
   "execution_count": null,
   "metadata": {},
   "outputs": [],
   "source": [
    "content_type_counts['html - youtube'] = exception_counts['youtube']"
   ]
  },
  {
   "cell_type": "markdown",
   "metadata": {},
   "source": [
    "Create a Pandas data frame with content types and their counts."
   ]
  },
  {
   "cell_type": "code",
   "execution_count": null,
   "metadata": {},
   "outputs": [],
   "source": [
    "content_type_counts_df = pd.DataFrame({\n",
    "    'content_type': list(content_type_counts.keys()),\n",
    "    'count': list(content_type_counts.values())\n",
    "})\n",
    "content_type_counts_df"
   ]
  },
  {
   "cell_type": "markdown",
   "metadata": {},
   "source": [
    "Plot this table as a bar chart and pie chart."
   ]
  },
  {
   "cell_type": "code",
   "execution_count": null,
   "metadata": {},
   "outputs": [],
   "source": [
    "_, axes = plt.subplots(figsize=(16, 7), nrows=1, ncols=2)\n",
    "sns.barplot(data=content_type_counts_df, x='content_type', y='count', ax=axes[0])\n",
    "for tick in axes[0].get_xticklabels():\n",
    "    tick.set_rotation(90)\n",
    "axes[1].pie(content_type_counts_df['count'], labels=content_type_counts_df['content_type'])\n",
    "plt.suptitle('#documents per content type (total: {})'.format(content_type_counts_df['count'].sum()));\n",
    "# plt.savefig('surfsharekit-content-type.pdf', bbox_inches='tight');"
   ]
  },
  {
   "cell_type": "markdown",
   "metadata": {},
   "source": [
    "## Inspect non-Youtube HTML content\n",
    "We would like to find out what kind of content is behind the 156 URLs in the 'html - other' category above, which is everything HTML that isn't Youtube.\n",
    "\n",
    "We manually inspect the top 10 domains referenced by non-Youtube HTML content type documents, and start by dumping the number of URLs for each unique domain found in the attachments."
   ]
  },
  {
   "cell_type": "code",
   "execution_count": null,
   "metadata": {},
   "outputs": [],
   "source": [
    "html_attachments = [_['url'] for _ in attachments if 'content-type' in _ and 'text/html' in _['content-type']]\n",
    "netlocs = [urlparse(_).netloc for _ in html_attachments]\n",
    "\n",
    "attachment_urls = pd.DataFrame({\n",
    "    'urls': html_attachments,\n",
    "    'netloc': netlocs\n",
    "})\n",
    "attachment_urls.groupby('netloc').count().sort_values('urls', ascending=False).head(20)"
   ]
  },
  {
   "cell_type": "markdown",
   "metadata": {},
   "source": [
    "We manually inspect a number of URLs for each domain that we found in the attachments."
   ]
  },
  {
   "cell_type": "code",
   "execution_count": null,
   "metadata": {},
   "outputs": [],
   "source": [
    "list(attachment_urls.loc[attachment_urls['netloc'] == 'xoteur.12change.eu'].urls)"
   ]
  },
  {
   "cell_type": "markdown",
   "metadata": {},
   "source": [
    "## Notes on top 10 non-Youtube HTML pages\n",
    "1. `xoteur.12change.eu`: Erasmus MC training portal. Case studies, short movies, exercises (multiple choice and free-form). Requires clicking, user input.\n",
    "1. `lecturenet.uu.nl`: Short movies from UU. Mostly earth sciences, it seems.\n",
    "1. `vimeo.com`: UvA data science videos.\n",
    "1. `app.dwo.nl`: exercises from the Digitale Wiskunde Omgeving. Very clicky.\n",
    "1. `coo.erasmusmc.nl`: another set of virtual cases studies from the Erasmus MC.\n",
    "1. `online.codarts.nl`: Codarts is the applied university of arts in Rotterdam. URLs are different, but because we're not logged in, they all seem to redirect to the same page. Exercises.\n",
    "1. `github.com`: tool repositories for UvA programming course, and notebooks for Tilburg University data science course.\n",
    "1. `player.ou.nl`: data science videos from the Open University.\n",
    "1. `my.questbase.com`: Codarts interactive exercises, with audio.\n",
    "1. `figshare.com`: source files (GIS data, videos) for UU earth sciences."
   ]
  },
  {
   "cell_type": "markdown",
   "metadata": {},
   "source": [
    "We do a quick and dirty classification of URLs for the top 10 domains. Anything else will be listed as 'unclassified'. The definition of content type loses its rigour here, as we're also classifying to material type."
   ]
  },
  {
   "cell_type": "code",
   "execution_count": null,
   "metadata": {},
   "outputs": [],
   "source": [
    "# Quick-and-dirty classification of non-Youtube HTML content\n",
    "\n",
    "HTML_URL_MAPPING = {\n",
    "    'xoteur.12change.eu': 'case study',\n",
    "    'lecturenet.uu.nl': 'video',\n",
    "    'vimeo.com': 'video',\n",
    "    'app.dwo.nl': 'exercise',\n",
    "    'coo.erasmusmc.nl': 'case study',\n",
    "    'online.codarts.nl': 'exercise',\n",
    "    'github.com': 'Jupyter notebook',\n",
    "    'player.ou.nl': 'video',\n",
    "    'my.questbase.com': 'exercise',\n",
    "    'figshare.com': 'source data',\n",
    "    'www.edx.org': 'online course',\n",
    "    'docs.python.org': 'python docs'\n",
    "}\n",
    "\n",
    "\n",
    "def classify_non_html_attachment_url(url):\n",
    "    return HTML_URL_MAPPING.get(urlparse(url).netloc, 'unclassified')"
   ]
  },
  {
   "cell_type": "markdown",
   "metadata": {},
   "source": [
    "Create a Pandas data frame with material type and count."
   ]
  },
  {
   "cell_type": "code",
   "execution_count": null,
   "metadata": {},
   "outputs": [],
   "source": [
    "html_material_types = (classify_non_html_attachment_url(_) for _ in list(attachment_urls['urls']))\n",
    "_ = countby(sorted(html_material_types), identity)\n",
    "material_types = pd.DataFrame({\n",
    "    'count': list(_.values()),\n",
    "    'material': list(_.keys())\n",
    "})\n",
    "material_types"
   ]
  },
  {
   "cell_type": "markdown",
   "metadata": {},
   "source": [
    "Plot material type and the associated count in the non-Youtube HTML attachments."
   ]
  },
  {
   "cell_type": "code",
   "execution_count": null,
   "metadata": {},
   "outputs": [],
   "source": [
    "_, axes = plt.subplots(figsize=(16, 7), nrows=1, ncols=2)\n",
    "sns.barplot(data=material_types, x='material', y='count', ax=axes[0])\n",
    "for tick in axes[0].get_xticklabels():\n",
    "    tick.set_rotation(90)\n",
    "axes[1].pie(material_types['count'], labels=material_types['material'])\n",
    "plt.suptitle('#non-Youtube HTML material type (estimated) (total: {})'.format(material_types['count'].sum()));\n",
    "# plt.savefig('non-youtube-html-material-type.pdf', bbox_inches='tight');"
   ]
  },
  {
   "cell_type": "code",
   "execution_count": null,
   "metadata": {},
   "outputs": [],
   "source": []
  }
 ],
 "metadata": {
  "kernelspec": {
   "display_name": "Python 3",
   "language": "python",
   "name": "python3"
  },
  "language_info": {
   "codemirror_mode": {
    "name": "ipython",
    "version": 3
   },
   "file_extension": ".py",
   "mimetype": "text/x-python",
   "name": "python",
   "nbconvert_exporter": "python",
   "pygments_lexer": "ipython3",
   "version": "3.6.6"
  }
 },
 "nbformat": 4,
 "nbformat_minor": 2
}
